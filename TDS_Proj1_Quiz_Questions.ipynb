{
  "nbformat": 4,
  "nbformat_minor": 0,
  "metadata": {
    "colab": {
      "provenance": []
    },
    "kernelspec": {
      "name": "python3",
      "display_name": "Python 3"
    },
    "language_info": {
      "name": "python"
    }
  },
  "cells": [
    {
      "cell_type": "code",
      "execution_count": 1,
      "metadata": {
        "id": "O9xDDYaSGIVq"
      },
      "outputs": [],
      "source": [
        "import pandas as pd"
      ]
    },
    {
      "cell_type": "markdown",
      "source": [
        "Mount drive"
      ],
      "metadata": {
        "id": "hQ7LfbnNQvjg"
      }
    },
    {
      "cell_type": "code",
      "source": [
        "from google.colab import drive\n",
        "drive.mount('/content/drive')"
      ],
      "metadata": {
        "colab": {
          "base_uri": "https://localhost:8080/"
        },
        "id": "pIYvVTQPQhAa",
        "outputId": "252f73df-2980-43d0-acbb-13c29380874e"
      },
      "execution_count": 2,
      "outputs": [
        {
          "output_type": "stream",
          "name": "stdout",
          "text": [
            "Drive already mounted at /content/drive; to attempt to forcibly remount, call drive.mount(\"/content/drive\", force_remount=True).\n"
          ]
        }
      ]
    },
    {
      "cell_type": "code",
      "source": [
        "users_df = pd.read_csv('/content/drive/MyDrive/TDS-Proj1/users.csv')\n",
        "repos_df = pd.read_csv('/content/drive/MyDrive/TDS-Proj1/repositories.csv')"
      ],
      "metadata": {
        "id": "dUfduvaMQe0i"
      },
      "execution_count": 3,
      "outputs": []
    },
    {
      "cell_type": "markdown",
      "source": [
        "1. Who are the top 5 users in Bangalore with the highest number of followers? List their login in order in comma separated"
      ],
      "metadata": {
        "id": "qgnMC_TtRLkK"
      }
    },
    {
      "cell_type": "code",
      "source": [
        "top_5_followers_login = users_df.sort_values('followers', ascending=False).head(5)['login'].tolist()\n",
        "top_5_followers_login_csv = ','.join(top_5_followers_login)\n",
        "top_5_followers_login_csv"
      ],
      "metadata": {
        "colab": {
          "base_uri": "https://localhost:8080/",
          "height": 36
        },
        "id": "WELjEEyQRHZH",
        "outputId": "22ca626e-6b26-419e-e7d3-f9ceca787d4b"
      },
      "execution_count": 6,
      "outputs": [
        {
          "output_type": "execute_result",
          "data": {
            "text/plain": [
              "'krishnaik06,championswimmer,arpitbbhayani,manjunath5496,tanaypratap'"
            ],
            "application/vnd.google.colaboratory.intrinsic+json": {
              "type": "string"
            }
          },
          "metadata": {},
          "execution_count": 6
        }
      ]
    },
    {
      "cell_type": "markdown",
      "source": [
        "2. Who are the 5 earliest registered GitHub users in Bangalore? List their login in ascending order of created_at, comma-separated."
      ],
      "metadata": {
        "id": "01LYjFMQRh7y"
      }
    },
    {
      "cell_type": "code",
      "source": [
        "oldest_users = users_df.sort_values('created_at', ascending=True).head(5)['login']\n",
        "oldest_users_csv = ','.join(oldest_users)\n",
        "oldest_users_csv"
      ],
      "metadata": {
        "colab": {
          "base_uri": "https://localhost:8080/",
          "height": 36
        },
        "id": "K8NACTAsRmUG",
        "outputId": "c75440ec-17e2-4ab7-8290-a0162b93e213"
      },
      "execution_count": 7,
      "outputs": [
        {
          "output_type": "execute_result",
          "data": {
            "text/plain": [
              "'anandology,irfn,jace,abhisek,abhin4v'"
            ],
            "application/vnd.google.colaboratory.intrinsic+json": {
              "type": "string"
            }
          },
          "metadata": {},
          "execution_count": 7
        }
      ]
    },
    {
      "cell_type": "markdown",
      "source": [
        "3. What are the 3 most popular license among these users? Ignore missing licenses. List the license_name in order comma separated"
      ],
      "metadata": {
        "id": "TkdW0jcYRuDK"
      }
    },
    {
      "cell_type": "code",
      "source": [
        "freq_licenses = repos_df['license_name'].dropna().value_counts().head(3).index.tolist()\n",
        "freq_licenses_csv = ','.join(freq_licenses)\n",
        "freq_licenses_csv"
      ],
      "metadata": {
        "colab": {
          "base_uri": "https://localhost:8080/",
          "height": 36
        },
        "id": "4XS3oNv9R-Ne",
        "outputId": "60b2008e-d85a-4a8e-d971-50f37585c409"
      },
      "execution_count": 8,
      "outputs": [
        {
          "output_type": "execute_result",
          "data": {
            "text/plain": [
              "'MIT License,Apache License 2.0,Other'"
            ],
            "application/vnd.google.colaboratory.intrinsic+json": {
              "type": "string"
            }
          },
          "metadata": {},
          "execution_count": 8
        }
      ]
    },
    {
      "cell_type": "markdown",
      "source": [
        "4. Which company do the majority of these developers work at?"
      ],
      "metadata": {
        "id": "_Z5e6SaPSOjU"
      }
    },
    {
      "cell_type": "code",
      "source": [
        "most_common_company = users_df['company'].value_counts().idxmax()\n",
        "most_common_company"
      ],
      "metadata": {
        "colab": {
          "base_uri": "https://localhost:8080/",
          "height": 36
        },
        "id": "zzDedIWaSSFI",
        "outputId": "e08473f4-5bda-46fc-e568-54e83174c6f0"
      },
      "execution_count": 9,
      "outputs": [
        {
          "output_type": "execute_result",
          "data": {
            "text/plain": [
              "'GOOGLE'"
            ],
            "application/vnd.google.colaboratory.intrinsic+json": {
              "type": "string"
            }
          },
          "metadata": {},
          "execution_count": 9
        }
      ]
    },
    {
      "cell_type": "markdown",
      "source": [
        "5. Which programming language is most popular among these users?"
      ],
      "metadata": {
        "id": "cDNlPeYVScsk"
      }
    },
    {
      "cell_type": "code",
      "source": [
        "most_popular_language = repos_df['language'].value_counts().idxmax()\n",
        "most_popular_language\n"
      ],
      "metadata": {
        "colab": {
          "base_uri": "https://localhost:8080/",
          "height": 36
        },
        "id": "lIEVJQrhSf5n",
        "outputId": "8007c90a-439b-430e-f57d-2036b62b1dcd"
      },
      "execution_count": 10,
      "outputs": [
        {
          "output_type": "execute_result",
          "data": {
            "text/plain": [
              "'JavaScript'"
            ],
            "application/vnd.google.colaboratory.intrinsic+json": {
              "type": "string"
            }
          },
          "metadata": {},
          "execution_count": 10
        }
      ]
    },
    {
      "cell_type": "markdown",
      "source": [
        "6. Which programming language is the second most popular among users who joined after 2020?"
      ],
      "metadata": {
        "id": "VfEUHsV8SjKN"
      }
    },
    {
      "cell_type": "code",
      "source": [
        "post_2020_users = users_df[users_df['created_at'] > '2020-01-01']\n",
        "post_2020_repos = repos_df[repos_df['login'].isin(post_2020_users['login'])]\n",
        "second_most_popular_language = post_2020_repos['language'].value_counts().nlargest(2).index[-1]\n",
        "second_most_popular_language"
      ],
      "metadata": {
        "colab": {
          "base_uri": "https://localhost:8080/",
          "height": 36
        },
        "id": "LGqoK890SmJc",
        "outputId": "d7c99aaf-9887-4457-ce69-a74bbc92f21a"
      },
      "execution_count": 11,
      "outputs": [
        {
          "output_type": "execute_result",
          "data": {
            "text/plain": [
              "'HTML'"
            ],
            "application/vnd.google.colaboratory.intrinsic+json": {
              "type": "string"
            }
          },
          "metadata": {},
          "execution_count": 11
        }
      ]
    },
    {
      "cell_type": "markdown",
      "source": [
        "7. Which language has the highest average number of stars per repository?"
      ],
      "metadata": {
        "id": "RtUSHqksSuSM"
      }
    },
    {
      "cell_type": "code",
      "source": [
        "language_avg_stars = repos_df.groupby('language')['stargazers_count'].mean().idxmax()\n",
        "language_avg_stars"
      ],
      "metadata": {
        "colab": {
          "base_uri": "https://localhost:8080/",
          "height": 36
        },
        "id": "8qu1s0S4Sy5h",
        "outputId": "47ce65ab-76ed-4369-bfcb-693fafc936de"
      },
      "execution_count": 12,
      "outputs": [
        {
          "output_type": "execute_result",
          "data": {
            "text/plain": [
              "'Pascal'"
            ],
            "application/vnd.google.colaboratory.intrinsic+json": {
              "type": "string"
            }
          },
          "metadata": {},
          "execution_count": 12
        }
      ]
    },
    {
      "cell_type": "markdown",
      "source": [
        "8. Let's define leader_strength as followers / (1 + following). Who are the top 5 in terms of leader_strength? List their login in order, comma-separated."
      ],
      "metadata": {
        "id": "KvUzsnePS4sd"
      }
    },
    {
      "cell_type": "code",
      "source": [
        "users_df['leader_strength'] = users_df['followers'] / (1 + users_df['following'])\n",
        "top_5_leaders = users_df.sort_values('leader_strength', ascending=False).head(5)['login'].tolist()\n",
        "top_5_leaders_csv = ','.join(top_5_leaders)\n",
        "top_5_leaders_csv"
      ],
      "metadata": {
        "colab": {
          "base_uri": "https://localhost:8080/",
          "height": 36
        },
        "id": "6zbzx6iOS8UP",
        "outputId": "66970480-5e05-47d1-8461-6e4a8ab64488"
      },
      "execution_count": 13,
      "outputs": [
        {
          "output_type": "execute_result",
          "data": {
            "text/plain": [
              "'krishnaik06,Hack-with-Github,laxmimerit,tanaypratap,abhishh1'"
            ],
            "application/vnd.google.colaboratory.intrinsic+json": {
              "type": "string"
            }
          },
          "metadata": {},
          "execution_count": 13
        }
      ]
    },
    {
      "cell_type": "markdown",
      "source": [
        "9. What is the correlation between the number of followers and the number of public repositories among users in Bangalore?"
      ],
      "metadata": {
        "id": "JLZR610ETBBt"
      }
    },
    {
      "cell_type": "code",
      "source": [
        "followers_and_repos_corr = users_df['followers'].corr(users_df['public_repos'])\n",
        "followers_and_repos_corr\n",
        "print(f\"{followers_and_repos_corr:.3f}\")"
      ],
      "metadata": {
        "colab": {
          "base_uri": "https://localhost:8080/"
        },
        "id": "SK8BrA43TER3",
        "outputId": "72bcee65-6606-444f-88fb-e87e60716654"
      },
      "execution_count": 28,
      "outputs": [
        {
          "output_type": "stream",
          "name": "stdout",
          "text": [
            "0.191\n"
          ]
        }
      ]
    },
    {
      "cell_type": "markdown",
      "source": [
        "10. Does creating more repos help users get more followers? Using regression, estimate how many additional followers a user gets per additional public repository."
      ],
      "metadata": {
        "id": "HOgO3fKXTKp2"
      }
    },
    {
      "cell_type": "code",
      "source": [
        "from sklearn.linear_model import LinearRegression\n",
        "\n",
        "model = LinearRegression()\n",
        "model.fit(users_df[['public_repos']], users_df['followers'])\n",
        "followers_per_repo = model.coef_[0]\n",
        "followers_per_repo\n",
        "print(f\"{followers_per_repo:.3f}\")"
      ],
      "metadata": {
        "colab": {
          "base_uri": "https://localhost:8080/"
        },
        "id": "_HDZHAgRTPMF",
        "outputId": "2aadb322-3ce3-4e38-cf0e-7b897eda148e"
      },
      "execution_count": 27,
      "outputs": [
        {
          "output_type": "stream",
          "name": "stdout",
          "text": [
            "2.340\n"
          ]
        }
      ]
    },
    {
      "cell_type": "markdown",
      "source": [
        "11. Do people typically enable projects and wikis together? What is the correlation between a repo having projects enabled and having wiki enabled?"
      ],
      "metadata": {
        "id": "5LClzCYmTWj-"
      }
    },
    {
      "cell_type": "code",
      "source": [
        "projects_and_wiki_corr = repos_df['has_wiki'].corr(repos_df['has_projects'])\n",
        "projects_and_wiki_corr\n",
        "print(f\"{projects_and_wiki_corr:.3f}\")"
      ],
      "metadata": {
        "colab": {
          "base_uri": "https://localhost:8080/"
        },
        "id": "3Z6jC1wATaaI",
        "outputId": "98f4d522-7c5c-4d89-b795-aa39e633719e"
      },
      "execution_count": 26,
      "outputs": [
        {
          "output_type": "stream",
          "name": "stdout",
          "text": [
            "0.198\n"
          ]
        }
      ]
    },
    {
      "cell_type": "markdown",
      "source": [
        "12. Do hireable users follow more people than those who are not hireable?"
      ],
      "metadata": {
        "id": "j2qJfzYTTgS-"
      }
    },
    {
      "cell_type": "code",
      "source": [
        "avg_following_hireable = users_df[users_df['hireable'] == True]['following'].mean()\n",
        "avg_following_non_hireable = users_df[users_df['hireable'] != True]['following'].mean()\n",
        "print(avg_following_hireable)\n",
        "print(avg_following_non_hireable)\n",
        "following_diff = avg_following_hireable - avg_following_non_hireable\n",
        "following_diff\n",
        "print(f\"{following_diff:.3f}\")"
      ],
      "metadata": {
        "colab": {
          "base_uri": "https://localhost:8080/"
        },
        "id": "XNSLRIJiTjnI",
        "outputId": "d66e91f9-25b4-4a82-c150-086c08046931"
      },
      "execution_count": 25,
      "outputs": [
        {
          "output_type": "stream",
          "name": "stdout",
          "text": [
            "213.48648648648648\n",
            "149.3909090909091\n",
            "64.096\n"
          ]
        }
      ]
    },
    {
      "cell_type": "markdown",
      "source": [
        "13. Some developers write long bios. Does that help them get more followers? What's the impact of the length of their bio (in Unicode words, split by whitespace) with followers? (Ignore people without bios)"
      ],
      "metadata": {
        "id": "hlusSDZKTo23"
      }
    },
    {
      "cell_type": "code",
      "source": [
        "import pandas as pd\n",
        "from sklearn.linear_model import LinearRegression\n",
        "import re\n",
        "\n",
        "def count_unicode_words(paragraph):\n",
        "    # Split the paragraph by whitespace and filter out any empty strings\n",
        "    words = paragraph.split()\n",
        "    # Return the count of words\n",
        "    return len(words)\n",
        "\n",
        "# Calculate the length of bios\n",
        "users_df['bio_length'] = users_df['bio'].dropna().apply(count_unicode_words)\n",
        "\n",
        "# Filter out users without bios\n",
        "filtered_df = users_df[users_df['bio_length'].notna()]\n",
        "\n",
        "# Prepare the data for regression\n",
        "X = filtered_df[['bio_length']]\n",
        "y = filtered_df['followers']\n",
        "\n",
        "# Perform linear regression\n",
        "model = LinearRegression()\n",
        "model.fit(X, y)\n",
        "\n",
        "# Get the regression slope\n",
        "regression_slope = model.coef_[0]\n",
        "\n",
        "# Output the result\n",
        "print(f\"Regression slope of followers on bio length: {regression_slope:.3f}\")"
      ],
      "metadata": {
        "colab": {
          "base_uri": "https://localhost:8080/"
        },
        "id": "pSQSqtFnTuph",
        "outputId": "4ebe017f-775b-4695-a021-41539c8391b6"
      },
      "execution_count": 30,
      "outputs": [
        {
          "output_type": "stream",
          "name": "stdout",
          "text": [
            "Regression slope of followers on bio length: 0.331\n"
          ]
        }
      ]
    },
    {
      "cell_type": "markdown",
      "source": [
        "14. Who created the most repositories on weekends (UTC)? List the top 5 users' login in order, comma-separated"
      ],
      "metadata": {
        "id": "3phd2sILT6PI"
      }
    },
    {
      "cell_type": "code",
      "source": [
        "repos_df['created_at'] = pd.to_datetime(repos_df['created_at'])\n",
        "repos_df['is_weekend'] = repos_df['created_at'].dt.weekday >= 5\n",
        "weekend_repos = repos_df[repos_df['is_weekend']]\n",
        "top_5_weekend_spenders = weekend_repos['login'].value_counts().head(5).index.tolist()\n",
        "top_5_weekend_spenders_csv = ','.join(top_5_weekend_spenders)\n",
        "top_5_weekend_spenders_csv"
      ],
      "metadata": {
        "colab": {
          "base_uri": "https://localhost:8080/",
          "height": 36
        },
        "id": "eoNA0CzfT_CB",
        "outputId": "5d67714d-5117-4bbf-9a2a-dc00ebd27727"
      },
      "execution_count": 21,
      "outputs": [
        {
          "output_type": "execute_result",
          "data": {
            "text/plain": [
              "'itaditya,avinassh,sangam14,Tivotal,manjunath5496'"
            ],
            "application/vnd.google.colaboratory.intrinsic+json": {
              "type": "string"
            }
          },
          "metadata": {},
          "execution_count": 21
        }
      ]
    },
    {
      "cell_type": "markdown",
      "source": [
        "15. Do people who are hireable share their email addresses more often?"
      ],
      "metadata": {
        "id": "Lr5bsJm-UM2w"
      }
    },
    {
      "cell_type": "code",
      "source": [
        "import pandas as pd\n",
        "\n",
        "# Count users with emails when hireable = True\n",
        "hireable_users = users_df[users_df['hireable'] == True]\n",
        "hireable_with_email = hireable_users['email'].notna().sum()\n",
        "hireable_fraction = hireable_with_email / len(hireable_users) if len(hireable_users) > 0 else 0\n",
        "\n",
        "# Count users with emails when hireable = False\n",
        "non_hireable_users = users_df[users_df['hireable'] != True]\n",
        "non_hireable_with_email = non_hireable_users['email'].notna().sum()\n",
        "non_hireable_fraction = non_hireable_with_email / len(non_hireable_users) if len(non_hireable_users) > 0 else 0\n",
        "\n",
        "# Calculate the difference\n",
        "email_difference = hireable_fraction - non_hireable_fraction\n",
        "\n",
        "# Output the result\n",
        "print(f\"Difference in email sharing: {email_difference:.3f}\")"
      ],
      "metadata": {
        "colab": {
          "base_uri": "https://localhost:8080/"
        },
        "id": "2xfqpkN4URWJ",
        "outputId": "bd2ddbaf-3021-4642-c4d0-07fc1e7c181d"
      },
      "execution_count": 22,
      "outputs": [
        {
          "output_type": "stream",
          "name": "stdout",
          "text": [
            "Difference in email sharing: 0.189\n"
          ]
        }
      ]
    },
    {
      "cell_type": "markdown",
      "source": [
        "16. Let's assume that the last word in a user's name is their surname (ignore missing names, trim and split by whitespace.) What's the most common surname? (If there's a tie, list them all, comma-separated, alphabetically)"
      ],
      "metadata": {
        "id": "_0ezBprXUXkY"
      }
    },
    {
      "cell_type": "code",
      "source": [
        "users_df['surname'] = users_df['name'].dropna().apply(lambda x: x.strip().split()[-1])\n",
        "most_common_surname = users_df['surname'].value_counts().nlargest(2).index.tolist()\n",
        "users_df['surname'].value_counts()\n",
        "most_common_surname_csv = ','.join(most_common_surname)\n",
        "most_common_surname_csv"
      ],
      "metadata": {
        "colab": {
          "base_uri": "https://localhost:8080/",
          "height": 36
        },
        "id": "B9K0Gs1XUZf4",
        "outputId": "5c7d858d-66fe-4908-c931-2d64fdecc675"
      },
      "execution_count": 24,
      "outputs": [
        {
          "output_type": "execute_result",
          "data": {
            "text/plain": [
              "'Kumar,Singh'"
            ],
            "application/vnd.google.colaboratory.intrinsic+json": {
              "type": "string"
            }
          },
          "metadata": {},
          "execution_count": 24
        }
      ]
    }
  ]
}